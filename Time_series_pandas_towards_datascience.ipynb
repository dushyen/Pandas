{
 "cells": [
  {
   "cell_type": "markdown",
   "metadata": {},
   "source": [
    "https://towardsdatascience.com/getting-started-with-time-series-using-pandas-b6b9c9d11949\n",
    "\n",
    "https://github.com/parulnith/Website-articles-datasets/blob/master/Getting%20started%20with%20Time%20Series%20using%20Pandas/Getting%20started%20with%20Time%20Series%20using%20Pandas.ipynb\n",
    "\n",
    "https://pandas.pydata.org/pandas-docs/stable/user_guide/timeseries.html#offset-aliases"
   ]
  },
  {
   "cell_type": "markdown",
   "metadata": {},
   "source": [
    "# Components of Time Series\n",
    "\n",
    "Time series data mainly consists of four components:\n",
    "\n",
    " Trend Component: A variation that moves up or down in a reasonably predictable pattern over a long period.\n",
    "   \n",
    "   Seasonality Component: The variation that is regular and periodic and repeats itself over a specific period such as a day, week, month, season, etc.,\n",
    "   \n",
    "   Cyclical Component: The variation that corresponds with business or economic ‘boom-bust’ cycles or follows their peculiar cycles, and\n",
    "  \n",
    "  Random Component: The variation that is erratic or residual and does not fall under any of the above three classifications."
   ]
  },
  {
   "cell_type": "code",
   "execution_count": 2,
   "metadata": {},
   "outputs": [],
   "source": [
    "# Importing required modules\n",
    "import pandas as pd\n",
    "import numpy as np\n",
    "import matplotlib.pyplot as plt\n",
    "import matplotlib.dates as mdates\n",
    "import datetime as dt\n",
    "from datetime import datetime    # To access datetime \n",
    "from pandas import Series        # To work on series \n",
    "\n",
    "# Settings for pretty nice plots \n",
    "plt.style.use('fivethirtyeight')\n",
    "%matplotlib inline\n",
    "\n",
    "# ignore warnings\n",
    "import warnings\n",
    "warnings.filterwarnings('ignore')"
   ]
  },
  {
   "cell_type": "code",
   "execution_count": 3,
   "metadata": {},
   "outputs": [],
   "source": [
    "# Reading in the data\n",
    "df = pd.read_csv('./datasets/maruti_stock/maruti_stocks.csv')"
   ]
  },
  {
   "cell_type": "code",
   "execution_count": 4,
   "metadata": {},
   "outputs": [
    {
     "data": {
      "text/html": [
       "<div>\n",
       "<style scoped>\n",
       "    .dataframe tbody tr th:only-of-type {\n",
       "        vertical-align: middle;\n",
       "    }\n",
       "\n",
       "    .dataframe tbody tr th {\n",
       "        vertical-align: top;\n",
       "    }\n",
       "\n",
       "    .dataframe thead th {\n",
       "        text-align: right;\n",
       "    }\n",
       "</style>\n",
       "<table border=\"1\" class=\"dataframe\">\n",
       "  <thead>\n",
       "    <tr style=\"text-align: right;\">\n",
       "      <th></th>\n",
       "      <th>Date</th>\n",
       "      <th>Symbol</th>\n",
       "      <th>Series</th>\n",
       "      <th>Prev Close</th>\n",
       "      <th>Open</th>\n",
       "      <th>High</th>\n",
       "      <th>Low</th>\n",
       "      <th>Last</th>\n",
       "      <th>Close</th>\n",
       "      <th>VWAP</th>\n",
       "      <th>Volume</th>\n",
       "      <th>Turnover</th>\n",
       "      <th>Trades</th>\n",
       "      <th>Deliverable Volume</th>\n",
       "      <th>%Deliverble</th>\n",
       "    </tr>\n",
       "  </thead>\n",
       "  <tbody>\n",
       "    <tr>\n",
       "      <th>0</th>\n",
       "      <td>2003-07-09</td>\n",
       "      <td>MARUTI</td>\n",
       "      <td>EQ</td>\n",
       "      <td>125.00</td>\n",
       "      <td>164.90</td>\n",
       "      <td>170.40</td>\n",
       "      <td>155.00</td>\n",
       "      <td>164.0</td>\n",
       "      <td>164.30</td>\n",
       "      <td>165.95</td>\n",
       "      <td>35164283</td>\n",
       "      <td>5.835528e+14</td>\n",
       "      <td>NaN</td>\n",
       "      <td>8537695.0</td>\n",
       "      <td>0.2428</td>\n",
       "    </tr>\n",
       "    <tr>\n",
       "      <th>1</th>\n",
       "      <td>2003-07-10</td>\n",
       "      <td>MARUTI</td>\n",
       "      <td>EQ</td>\n",
       "      <td>164.30</td>\n",
       "      <td>167.00</td>\n",
       "      <td>168.70</td>\n",
       "      <td>164.50</td>\n",
       "      <td>167.0</td>\n",
       "      <td>167.00</td>\n",
       "      <td>166.74</td>\n",
       "      <td>10464179</td>\n",
       "      <td>1.744820e+14</td>\n",
       "      <td>NaN</td>\n",
       "      <td>4363947.0</td>\n",
       "      <td>0.4170</td>\n",
       "    </tr>\n",
       "    <tr>\n",
       "      <th>2</th>\n",
       "      <td>2003-07-11</td>\n",
       "      <td>MARUTI</td>\n",
       "      <td>EQ</td>\n",
       "      <td>167.00</td>\n",
       "      <td>167.75</td>\n",
       "      <td>174.85</td>\n",
       "      <td>166.25</td>\n",
       "      <td>173.6</td>\n",
       "      <td>173.35</td>\n",
       "      <td>172.45</td>\n",
       "      <td>11740117</td>\n",
       "      <td>2.024622e+14</td>\n",
       "      <td>NaN</td>\n",
       "      <td>3014852.0</td>\n",
       "      <td>0.2568</td>\n",
       "    </tr>\n",
       "    <tr>\n",
       "      <th>3</th>\n",
       "      <td>2003-07-14</td>\n",
       "      <td>MARUTI</td>\n",
       "      <td>EQ</td>\n",
       "      <td>173.35</td>\n",
       "      <td>174.25</td>\n",
       "      <td>179.25</td>\n",
       "      <td>174.25</td>\n",
       "      <td>178.6</td>\n",
       "      <td>177.95</td>\n",
       "      <td>177.91</td>\n",
       "      <td>5982324</td>\n",
       "      <td>1.064313e+14</td>\n",
       "      <td>NaN</td>\n",
       "      <td>1949217.0</td>\n",
       "      <td>0.3258</td>\n",
       "    </tr>\n",
       "    <tr>\n",
       "      <th>4</th>\n",
       "      <td>2003-07-15</td>\n",
       "      <td>MARUTI</td>\n",
       "      <td>EQ</td>\n",
       "      <td>177.95</td>\n",
       "      <td>200.00</td>\n",
       "      <td>200.00</td>\n",
       "      <td>173.00</td>\n",
       "      <td>176.3</td>\n",
       "      <td>176.20</td>\n",
       "      <td>176.88</td>\n",
       "      <td>6173689</td>\n",
       "      <td>1.092001e+14</td>\n",
       "      <td>NaN</td>\n",
       "      <td>1307694.0</td>\n",
       "      <td>0.2118</td>\n",
       "    </tr>\n",
       "  </tbody>\n",
       "</table>\n",
       "</div>"
      ],
      "text/plain": [
       "         Date  Symbol Series  Prev Close    Open    High     Low   Last  \\\n",
       "0  2003-07-09  MARUTI     EQ      125.00  164.90  170.40  155.00  164.0   \n",
       "1  2003-07-10  MARUTI     EQ      164.30  167.00  168.70  164.50  167.0   \n",
       "2  2003-07-11  MARUTI     EQ      167.00  167.75  174.85  166.25  173.6   \n",
       "3  2003-07-14  MARUTI     EQ      173.35  174.25  179.25  174.25  178.6   \n",
       "4  2003-07-15  MARUTI     EQ      177.95  200.00  200.00  173.00  176.3   \n",
       "\n",
       "    Close    VWAP    Volume      Turnover  Trades  Deliverable Volume  \\\n",
       "0  164.30  165.95  35164283  5.835528e+14     NaN           8537695.0   \n",
       "1  167.00  166.74  10464179  1.744820e+14     NaN           4363947.0   \n",
       "2  173.35  172.45  11740117  2.024622e+14     NaN           3014852.0   \n",
       "3  177.95  177.91   5982324  1.064313e+14     NaN           1949217.0   \n",
       "4  176.20  176.88   6173689  1.092001e+14     NaN           1307694.0   \n",
       "\n",
       "   %Deliverble  \n",
       "0       0.2428  \n",
       "1       0.4170  \n",
       "2       0.2568  \n",
       "3       0.3258  \n",
       "4       0.2118  "
      ]
     },
     "execution_count": 4,
     "metadata": {},
     "output_type": "execute_result"
    }
   ],
   "source": [
    "df.head()"
   ]
  },
  {
   "cell_type": "code",
   "execution_count": 5,
   "metadata": {},
   "outputs": [
    {
     "name": "stdout",
     "output_type": "stream",
     "text": [
      "<class 'pandas.core.frame.DataFrame'>\n",
      "RangeIndex: 4305 entries, 0 to 4304\n",
      "Data columns (total 7 columns):\n",
      " #   Column  Non-Null Count  Dtype  \n",
      "---  ------  --------------  -----  \n",
      " 0   Date    4305 non-null   object \n",
      " 1   Open    4305 non-null   float64\n",
      " 2   High    4305 non-null   float64\n",
      " 3   Low     4305 non-null   float64\n",
      " 4   Close   4305 non-null   float64\n",
      " 5   Volume  4305 non-null   int64  \n",
      " 6   VWAP    4305 non-null   float64\n",
      "dtypes: float64(5), int64(1), object(1)\n",
      "memory usage: 235.6+ KB\n"
     ]
    }
   ],
   "source": [
    "#To keep things simple, let's limit the number of columns.\n",
    "data = df[['Date','Open','High','Low','Close','Volume','VWAP']]\n",
    "data.info()\n"
   ]
  },
  {
   "cell_type": "code",
   "execution_count": 6,
   "metadata": {},
   "outputs": [
    {
     "data": {
      "text/html": [
       "<div>\n",
       "<style scoped>\n",
       "    .dataframe tbody tr th:only-of-type {\n",
       "        vertical-align: middle;\n",
       "    }\n",
       "\n",
       "    .dataframe tbody tr th {\n",
       "        vertical-align: top;\n",
       "    }\n",
       "\n",
       "    .dataframe thead th {\n",
       "        text-align: right;\n",
       "    }\n",
       "</style>\n",
       "<table border=\"1\" class=\"dataframe\">\n",
       "  <thead>\n",
       "    <tr style=\"text-align: right;\">\n",
       "      <th></th>\n",
       "      <th>Date</th>\n",
       "      <th>Open</th>\n",
       "      <th>High</th>\n",
       "      <th>Low</th>\n",
       "      <th>Close</th>\n",
       "      <th>Volume</th>\n",
       "      <th>VWAP</th>\n",
       "    </tr>\n",
       "  </thead>\n",
       "  <tbody>\n",
       "    <tr>\n",
       "      <th>0</th>\n",
       "      <td>2003-07-09</td>\n",
       "      <td>164.90</td>\n",
       "      <td>170.40</td>\n",
       "      <td>155.00</td>\n",
       "      <td>164.30</td>\n",
       "      <td>35164283</td>\n",
       "      <td>165.95</td>\n",
       "    </tr>\n",
       "    <tr>\n",
       "      <th>1</th>\n",
       "      <td>2003-07-10</td>\n",
       "      <td>167.00</td>\n",
       "      <td>168.70</td>\n",
       "      <td>164.50</td>\n",
       "      <td>167.00</td>\n",
       "      <td>10464179</td>\n",
       "      <td>166.74</td>\n",
       "    </tr>\n",
       "    <tr>\n",
       "      <th>2</th>\n",
       "      <td>2003-07-11</td>\n",
       "      <td>167.75</td>\n",
       "      <td>174.85</td>\n",
       "      <td>166.25</td>\n",
       "      <td>173.35</td>\n",
       "      <td>11740117</td>\n",
       "      <td>172.45</td>\n",
       "    </tr>\n",
       "    <tr>\n",
       "      <th>3</th>\n",
       "      <td>2003-07-14</td>\n",
       "      <td>174.25</td>\n",
       "      <td>179.25</td>\n",
       "      <td>174.25</td>\n",
       "      <td>177.95</td>\n",
       "      <td>5982324</td>\n",
       "      <td>177.91</td>\n",
       "    </tr>\n",
       "    <tr>\n",
       "      <th>4</th>\n",
       "      <td>2003-07-15</td>\n",
       "      <td>200.00</td>\n",
       "      <td>200.00</td>\n",
       "      <td>173.00</td>\n",
       "      <td>176.20</td>\n",
       "      <td>6173689</td>\n",
       "      <td>176.88</td>\n",
       "    </tr>\n",
       "    <tr>\n",
       "      <th>...</th>\n",
       "      <td>...</td>\n",
       "      <td>...</td>\n",
       "      <td>...</td>\n",
       "      <td>...</td>\n",
       "      <td>...</td>\n",
       "      <td>...</td>\n",
       "      <td>...</td>\n",
       "    </tr>\n",
       "    <tr>\n",
       "      <th>4300</th>\n",
       "      <td>2020-10-26</td>\n",
       "      <td>7100.00</td>\n",
       "      <td>7161.30</td>\n",
       "      <td>6935.05</td>\n",
       "      <td>7054.80</td>\n",
       "      <td>1559361</td>\n",
       "      <td>7056.34</td>\n",
       "    </tr>\n",
       "    <tr>\n",
       "      <th>4301</th>\n",
       "      <td>2020-10-27</td>\n",
       "      <td>7067.00</td>\n",
       "      <td>7209.75</td>\n",
       "      <td>7053.00</td>\n",
       "      <td>7158.40</td>\n",
       "      <td>1461819</td>\n",
       "      <td>7139.86</td>\n",
       "    </tr>\n",
       "    <tr>\n",
       "      <th>4302</th>\n",
       "      <td>2020-10-28</td>\n",
       "      <td>7194.95</td>\n",
       "      <td>7332.00</td>\n",
       "      <td>7110.00</td>\n",
       "      <td>7186.05</td>\n",
       "      <td>1645177</td>\n",
       "      <td>7240.73</td>\n",
       "    </tr>\n",
       "    <tr>\n",
       "      <th>4303</th>\n",
       "      <td>2020-10-29</td>\n",
       "      <td>7114.00</td>\n",
       "      <td>7199.00</td>\n",
       "      <td>6986.70</td>\n",
       "      <td>7117.70</td>\n",
       "      <td>1434853</td>\n",
       "      <td>7092.42</td>\n",
       "    </tr>\n",
       "    <tr>\n",
       "      <th>4304</th>\n",
       "      <td>2020-10-30</td>\n",
       "      <td>7079.05</td>\n",
       "      <td>7110.00</td>\n",
       "      <td>6881.00</td>\n",
       "      <td>6965.15</td>\n",
       "      <td>1360249</td>\n",
       "      <td>6979.63</td>\n",
       "    </tr>\n",
       "  </tbody>\n",
       "</table>\n",
       "<p>4305 rows × 7 columns</p>\n",
       "</div>"
      ],
      "text/plain": [
       "            Date     Open     High      Low    Close    Volume     VWAP\n",
       "0     2003-07-09   164.90   170.40   155.00   164.30  35164283   165.95\n",
       "1     2003-07-10   167.00   168.70   164.50   167.00  10464179   166.74\n",
       "2     2003-07-11   167.75   174.85   166.25   173.35  11740117   172.45\n",
       "3     2003-07-14   174.25   179.25   174.25   177.95   5982324   177.91\n",
       "4     2003-07-15   200.00   200.00   173.00   176.20   6173689   176.88\n",
       "...          ...      ...      ...      ...      ...       ...      ...\n",
       "4300  2020-10-26  7100.00  7161.30  6935.05  7054.80   1559361  7056.34\n",
       "4301  2020-10-27  7067.00  7209.75  7053.00  7158.40   1461819  7139.86\n",
       "4302  2020-10-28  7194.95  7332.00  7110.00  7186.05   1645177  7240.73\n",
       "4303  2020-10-29  7114.00  7199.00  6986.70  7117.70   1434853  7092.42\n",
       "4304  2020-10-30  7079.05  7110.00  6881.00  6965.15   1360249  6979.63\n",
       "\n",
       "[4305 rows x 7 columns]"
      ]
     },
     "execution_count": 6,
     "metadata": {},
     "output_type": "execute_result"
    }
   ],
   "source": [
    "data"
   ]
  },
  {
   "cell_type": "markdown",
   "metadata": {},
   "source": [
    "It appears that the Date column is being treated as a string rather than as dates. Let’s make things right. For this, we shall use the pandas’ to_datetime feature, which converts the arguments to dates. Lastly, we want to make sure that the Date column is the index column."
   ]
  },
  {
   "cell_type": "code",
   "execution_count": 7,
   "metadata": {},
   "outputs": [
    {
     "data": {
      "text/html": [
       "<div>\n",
       "<style scoped>\n",
       "    .dataframe tbody tr th:only-of-type {\n",
       "        vertical-align: middle;\n",
       "    }\n",
       "\n",
       "    .dataframe tbody tr th {\n",
       "        vertical-align: top;\n",
       "    }\n",
       "\n",
       "    .dataframe thead th {\n",
       "        text-align: right;\n",
       "    }\n",
       "</style>\n",
       "<table border=\"1\" class=\"dataframe\">\n",
       "  <thead>\n",
       "    <tr style=\"text-align: right;\">\n",
       "      <th></th>\n",
       "      <th>Open</th>\n",
       "      <th>High</th>\n",
       "      <th>Low</th>\n",
       "      <th>Close</th>\n",
       "      <th>Volume</th>\n",
       "      <th>VWAP</th>\n",
       "    </tr>\n",
       "    <tr>\n",
       "      <th>Date</th>\n",
       "      <th></th>\n",
       "      <th></th>\n",
       "      <th></th>\n",
       "      <th></th>\n",
       "      <th></th>\n",
       "      <th></th>\n",
       "    </tr>\n",
       "  </thead>\n",
       "  <tbody>\n",
       "    <tr>\n",
       "      <th>2003-07-09</th>\n",
       "      <td>164.90</td>\n",
       "      <td>170.40</td>\n",
       "      <td>155.00</td>\n",
       "      <td>164.30</td>\n",
       "      <td>35164283</td>\n",
       "      <td>165.95</td>\n",
       "    </tr>\n",
       "    <tr>\n",
       "      <th>2003-07-10</th>\n",
       "      <td>167.00</td>\n",
       "      <td>168.70</td>\n",
       "      <td>164.50</td>\n",
       "      <td>167.00</td>\n",
       "      <td>10464179</td>\n",
       "      <td>166.74</td>\n",
       "    </tr>\n",
       "    <tr>\n",
       "      <th>2003-07-11</th>\n",
       "      <td>167.75</td>\n",
       "      <td>174.85</td>\n",
       "      <td>166.25</td>\n",
       "      <td>173.35</td>\n",
       "      <td>11740117</td>\n",
       "      <td>172.45</td>\n",
       "    </tr>\n",
       "    <tr>\n",
       "      <th>2003-07-14</th>\n",
       "      <td>174.25</td>\n",
       "      <td>179.25</td>\n",
       "      <td>174.25</td>\n",
       "      <td>177.95</td>\n",
       "      <td>5982324</td>\n",
       "      <td>177.91</td>\n",
       "    </tr>\n",
       "    <tr>\n",
       "      <th>2003-07-15</th>\n",
       "      <td>200.00</td>\n",
       "      <td>200.00</td>\n",
       "      <td>173.00</td>\n",
       "      <td>176.20</td>\n",
       "      <td>6173689</td>\n",
       "      <td>176.88</td>\n",
       "    </tr>\n",
       "  </tbody>\n",
       "</table>\n",
       "</div>"
      ],
      "text/plain": [
       "              Open    High     Low   Close    Volume    VWAP\n",
       "Date                                                        \n",
       "2003-07-09  164.90  170.40  155.00  164.30  35164283  165.95\n",
       "2003-07-10  167.00  168.70  164.50  167.00  10464179  166.74\n",
       "2003-07-11  167.75  174.85  166.25  173.35  11740117  172.45\n",
       "2003-07-14  174.25  179.25  174.25  177.95   5982324  177.91\n",
       "2003-07-15  200.00  200.00  173.00  176.20   6173689  176.88"
      ]
     },
     "execution_count": 7,
     "metadata": {},
     "output_type": "execute_result"
    }
   ],
   "source": [
    "# Converting string to datetime64\n",
    "data['Date'] = data['Date'].apply(pd.to_datetime)\n",
    "data.set_index('Date',inplace=True)\n",
    "data.head()"
   ]
  },
  {
   "cell_type": "code",
   "execution_count": 8,
   "metadata": {},
   "outputs": [],
   "source": [
    "my_year = 2019\n",
    "my_month = 4\n",
    "my_day = 21\n",
    "my_hour = 10\n",
    "my_minute = 5\n",
    "my_second = 30"
   ]
  },
  {
   "cell_type": "code",
   "execution_count": 9,
   "metadata": {},
   "outputs": [
    {
     "data": {
      "text/plain": [
       "datetime.datetime(2019, 4, 21, 0, 0)"
      ]
     },
     "execution_count": 9,
     "metadata": {},
     "output_type": "execute_result"
    }
   ],
   "source": [
    "# Creating timestamps by using the above attributes.\n",
    "test_data = datetime(my_year,my_month,my_day)\n",
    "test_data"
   ]
  },
  {
   "cell_type": "code",
   "execution_count": 10,
   "metadata": {},
   "outputs": [
    {
     "name": "stdout",
     "output_type": "stream",
     "text": [
      "The day is :  21\n",
      "The hour is :  10\n",
      "The month is :  4\n"
     ]
    }
   ],
   "source": [
    "test_data = datetime(my_year,my_month,my_day,my_hour,my_minute,my_second)\n",
    "print(\"The day is : \",test_data.day)\n",
    "print(\"The hour is : \",test_data.hour)\n",
    "print(\"The month is : \",test_data.month)"
   ]
  },
  {
   "cell_type": "code",
   "execution_count": 11,
   "metadata": {},
   "outputs": [
    {
     "name": "stdout",
     "output_type": "stream",
     "text": [
      "2020-10-30 00:00:00\n",
      "2003-07-09 00:00:00\n"
     ]
    }
   ],
   "source": [
    "print(data.index.max())\n",
    "print(data.index.min())"
   ]
  },
  {
   "cell_type": "code",
   "execution_count": 14,
   "metadata": {},
   "outputs": [
    {
     "data": {
      "text/html": [
       "<div>\n",
       "<style scoped>\n",
       "    .dataframe tbody tr th:only-of-type {\n",
       "        vertical-align: middle;\n",
       "    }\n",
       "\n",
       "    .dataframe tbody tr th {\n",
       "        vertical-align: top;\n",
       "    }\n",
       "\n",
       "    .dataframe thead th {\n",
       "        text-align: right;\n",
       "    }\n",
       "</style>\n",
       "<table border=\"1\" class=\"dataframe\">\n",
       "  <thead>\n",
       "    <tr style=\"text-align: right;\">\n",
       "      <th></th>\n",
       "      <th>Open</th>\n",
       "      <th>High</th>\n",
       "      <th>Low</th>\n",
       "      <th>Close</th>\n",
       "      <th>Volume</th>\n",
       "      <th>VWAP</th>\n",
       "    </tr>\n",
       "    <tr>\n",
       "      <th>Date</th>\n",
       "      <th></th>\n",
       "      <th></th>\n",
       "      <th></th>\n",
       "      <th></th>\n",
       "      <th></th>\n",
       "      <th></th>\n",
       "    </tr>\n",
       "  </thead>\n",
       "  <tbody>\n",
       "    <tr>\n",
       "      <th>2003-07-09</th>\n",
       "      <td>164.90</td>\n",
       "      <td>170.40</td>\n",
       "      <td>155.00</td>\n",
       "      <td>164.30</td>\n",
       "      <td>35164283</td>\n",
       "      <td>165.95</td>\n",
       "    </tr>\n",
       "    <tr>\n",
       "      <th>2003-07-10</th>\n",
       "      <td>167.00</td>\n",
       "      <td>168.70</td>\n",
       "      <td>164.50</td>\n",
       "      <td>167.00</td>\n",
       "      <td>10464179</td>\n",
       "      <td>166.74</td>\n",
       "    </tr>\n",
       "    <tr>\n",
       "      <th>2003-07-11</th>\n",
       "      <td>167.75</td>\n",
       "      <td>174.85</td>\n",
       "      <td>166.25</td>\n",
       "      <td>173.35</td>\n",
       "      <td>11740117</td>\n",
       "      <td>172.45</td>\n",
       "    </tr>\n",
       "    <tr>\n",
       "      <th>2003-07-14</th>\n",
       "      <td>174.25</td>\n",
       "      <td>179.25</td>\n",
       "      <td>174.25</td>\n",
       "      <td>177.95</td>\n",
       "      <td>5982324</td>\n",
       "      <td>177.91</td>\n",
       "    </tr>\n",
       "    <tr>\n",
       "      <th>2003-07-15</th>\n",
       "      <td>200.00</td>\n",
       "      <td>200.00</td>\n",
       "      <td>173.00</td>\n",
       "      <td>176.20</td>\n",
       "      <td>6173689</td>\n",
       "      <td>176.88</td>\n",
       "    </tr>\n",
       "    <tr>\n",
       "      <th>...</th>\n",
       "      <td>...</td>\n",
       "      <td>...</td>\n",
       "      <td>...</td>\n",
       "      <td>...</td>\n",
       "      <td>...</td>\n",
       "      <td>...</td>\n",
       "    </tr>\n",
       "    <tr>\n",
       "      <th>2020-10-26</th>\n",
       "      <td>7100.00</td>\n",
       "      <td>7161.30</td>\n",
       "      <td>6935.05</td>\n",
       "      <td>7054.80</td>\n",
       "      <td>1559361</td>\n",
       "      <td>7056.34</td>\n",
       "    </tr>\n",
       "    <tr>\n",
       "      <th>2020-10-27</th>\n",
       "      <td>7067.00</td>\n",
       "      <td>7209.75</td>\n",
       "      <td>7053.00</td>\n",
       "      <td>7158.40</td>\n",
       "      <td>1461819</td>\n",
       "      <td>7139.86</td>\n",
       "    </tr>\n",
       "    <tr>\n",
       "      <th>2020-10-28</th>\n",
       "      <td>7194.95</td>\n",
       "      <td>7332.00</td>\n",
       "      <td>7110.00</td>\n",
       "      <td>7186.05</td>\n",
       "      <td>1645177</td>\n",
       "      <td>7240.73</td>\n",
       "    </tr>\n",
       "    <tr>\n",
       "      <th>2020-10-29</th>\n",
       "      <td>7114.00</td>\n",
       "      <td>7199.00</td>\n",
       "      <td>6986.70</td>\n",
       "      <td>7117.70</td>\n",
       "      <td>1434853</td>\n",
       "      <td>7092.42</td>\n",
       "    </tr>\n",
       "    <tr>\n",
       "      <th>2020-10-30</th>\n",
       "      <td>7079.05</td>\n",
       "      <td>7110.00</td>\n",
       "      <td>6881.00</td>\n",
       "      <td>6965.15</td>\n",
       "      <td>1360249</td>\n",
       "      <td>6979.63</td>\n",
       "    </tr>\n",
       "  </tbody>\n",
       "</table>\n",
       "<p>4305 rows × 6 columns</p>\n",
       "</div>"
      ],
      "text/plain": [
       "               Open     High      Low    Close    Volume     VWAP\n",
       "Date                                                             \n",
       "2003-07-09   164.90   170.40   155.00   164.30  35164283   165.95\n",
       "2003-07-10   167.00   168.70   164.50   167.00  10464179   166.74\n",
       "2003-07-11   167.75   174.85   166.25   173.35  11740117   172.45\n",
       "2003-07-14   174.25   179.25   174.25   177.95   5982324   177.91\n",
       "2003-07-15   200.00   200.00   173.00   176.20   6173689   176.88\n",
       "...             ...      ...      ...      ...       ...      ...\n",
       "2020-10-26  7100.00  7161.30  6935.05  7054.80   1559361  7056.34\n",
       "2020-10-27  7067.00  7209.75  7053.00  7158.40   1461819  7139.86\n",
       "2020-10-28  7194.95  7332.00  7110.00  7186.05   1645177  7240.73\n",
       "2020-10-29  7114.00  7199.00  6986.70  7117.70   1434853  7092.42\n",
       "2020-10-30  7079.05  7110.00  6881.00  6965.15   1360249  6979.63\n",
       "\n",
       "[4305 rows x 6 columns]"
      ]
     },
     "execution_count": 14,
     "metadata": {},
     "output_type": "execute_result"
    }
   ],
   "source": [
    "data"
   ]
  },
  {
   "cell_type": "code",
   "execution_count": 15,
   "metadata": {},
   "outputs": [
    {
     "name": "stdout",
     "output_type": "stream",
     "text": [
      "Earliest date index location is:  0\n",
      "Latest date location:  4304\n"
     ]
    }
   ],
   "source": [
    "# Earliest date index location\n",
    "print('Earliest date index location is: ',data.index.argmin())\n",
    "\n",
    "# Latest date location\n",
    "print('Latest date location: ',data.index.argmax())"
   ]
  },
  {
   "cell_type": "code",
   "execution_count": 16,
   "metadata": {},
   "outputs": [
    {
     "data": {
      "text/html": [
       "<div>\n",
       "<style scoped>\n",
       "    .dataframe tbody tr th:only-of-type {\n",
       "        vertical-align: middle;\n",
       "    }\n",
       "\n",
       "    .dataframe tbody tr th {\n",
       "        vertical-align: top;\n",
       "    }\n",
       "\n",
       "    .dataframe thead th {\n",
       "        text-align: right;\n",
       "    }\n",
       "</style>\n",
       "<table border=\"1\" class=\"dataframe\">\n",
       "  <thead>\n",
       "    <tr style=\"text-align: right;\">\n",
       "      <th></th>\n",
       "      <th>VWAP</th>\n",
       "    </tr>\n",
       "    <tr>\n",
       "      <th>Date</th>\n",
       "      <th></th>\n",
       "    </tr>\n",
       "  </thead>\n",
       "  <tbody>\n",
       "    <tr>\n",
       "      <th>2003-07-09</th>\n",
       "      <td>165.95</td>\n",
       "    </tr>\n",
       "    <tr>\n",
       "      <th>2003-07-10</th>\n",
       "      <td>166.74</td>\n",
       "    </tr>\n",
       "    <tr>\n",
       "      <th>2003-07-11</th>\n",
       "      <td>172.45</td>\n",
       "    </tr>\n",
       "    <tr>\n",
       "      <th>2003-07-14</th>\n",
       "      <td>177.91</td>\n",
       "    </tr>\n",
       "    <tr>\n",
       "      <th>2003-07-15</th>\n",
       "      <td>176.88</td>\n",
       "    </tr>\n",
       "  </tbody>\n",
       "</table>\n",
       "</div>"
      ],
      "text/plain": [
       "              VWAP\n",
       "Date              \n",
       "2003-07-09  165.95\n",
       "2003-07-10  166.74\n",
       "2003-07-11  172.45\n",
       "2003-07-14  177.91\n",
       "2003-07-15  176.88"
      ]
     },
     "execution_count": 16,
     "metadata": {},
     "output_type": "execute_result"
    }
   ],
   "source": [
    "df_vwap = df[['Date','VWAP']] # df is the original dataframe\n",
    "df_vwap['Date'] = df_vwap['Date'].apply(pd.to_datetime)\n",
    "df_vwap.set_index(\"Date\", inplace = True)\n",
    "df_vwap.head()\n"
   ]
  },
  {
   "cell_type": "markdown",
   "metadata": {},
   "source": [
    "# 2. Subsetting the time series data ✂️\n",
    "\n",
    "Instead of working with the entire data, it is prudent to slice the time series data to highlight the portion of the data we are interested in. Since the volume-weighted average price (VWAP) is a trading benchmark, we shall limit our analysis to only that column."
   ]
  },
  {
   "cell_type": "code",
   "execution_count": 17,
   "metadata": {},
   "outputs": [],
   "source": [
    "# Slicing on year\n",
    "vwap_subset = df_vwap['2017':'2020']\n",
    "\n",
    "# Slicing on month\n",
    "vwap_subset = df_vwap['2017-01':'2020-12']\n",
    "\n",
    "#Slicing on day\n",
    "vwap_subset = df_vwap['2017-01-01':'2020-12-15']"
   ]
  },
  {
   "cell_type": "code",
   "execution_count": 19,
   "metadata": {},
   "outputs": [
    {
     "data": {
      "text/html": [
       "<div>\n",
       "<style scoped>\n",
       "    .dataframe tbody tr th:only-of-type {\n",
       "        vertical-align: middle;\n",
       "    }\n",
       "\n",
       "    .dataframe tbody tr th {\n",
       "        vertical-align: top;\n",
       "    }\n",
       "\n",
       "    .dataframe thead th {\n",
       "        text-align: right;\n",
       "    }\n",
       "</style>\n",
       "<table border=\"1\" class=\"dataframe\">\n",
       "  <thead>\n",
       "    <tr style=\"text-align: right;\">\n",
       "      <th></th>\n",
       "      <th>VWAP</th>\n",
       "    </tr>\n",
       "    <tr>\n",
       "      <th>Date</th>\n",
       "      <th></th>\n",
       "    </tr>\n",
       "  </thead>\n",
       "  <tbody>\n",
       "    <tr>\n",
       "      <th>2017-01-02</th>\n",
       "      <td>5386.21</td>\n",
       "    </tr>\n",
       "    <tr>\n",
       "      <th>2017-01-03</th>\n",
       "      <td>5485.36</td>\n",
       "    </tr>\n",
       "    <tr>\n",
       "      <th>2017-01-04</th>\n",
       "      <td>5521.15</td>\n",
       "    </tr>\n",
       "    <tr>\n",
       "      <th>2017-01-05</th>\n",
       "      <td>5600.23</td>\n",
       "    </tr>\n",
       "    <tr>\n",
       "      <th>2017-01-06</th>\n",
       "      <td>5616.11</td>\n",
       "    </tr>\n",
       "    <tr>\n",
       "      <th>...</th>\n",
       "      <td>...</td>\n",
       "    </tr>\n",
       "    <tr>\n",
       "      <th>2020-10-26</th>\n",
       "      <td>7056.34</td>\n",
       "    </tr>\n",
       "    <tr>\n",
       "      <th>2020-10-27</th>\n",
       "      <td>7139.86</td>\n",
       "    </tr>\n",
       "    <tr>\n",
       "      <th>2020-10-28</th>\n",
       "      <td>7240.73</td>\n",
       "    </tr>\n",
       "    <tr>\n",
       "      <th>2020-10-29</th>\n",
       "      <td>7092.42</td>\n",
       "    </tr>\n",
       "    <tr>\n",
       "      <th>2020-10-30</th>\n",
       "      <td>6979.63</td>\n",
       "    </tr>\n",
       "  </tbody>\n",
       "</table>\n",
       "<p>949 rows × 1 columns</p>\n",
       "</div>"
      ],
      "text/plain": [
       "               VWAP\n",
       "Date               \n",
       "2017-01-02  5386.21\n",
       "2017-01-03  5485.36\n",
       "2017-01-04  5521.15\n",
       "2017-01-05  5600.23\n",
       "2017-01-06  5616.11\n",
       "...             ...\n",
       "2020-10-26  7056.34\n",
       "2020-10-27  7139.86\n",
       "2020-10-28  7240.73\n",
       "2020-10-29  7092.42\n",
       "2020-10-30  6979.63\n",
       "\n",
       "[949 rows x 1 columns]"
      ]
     },
     "execution_count": 19,
     "metadata": {},
     "output_type": "execute_result"
    }
   ],
   "source": [
    "vwap_subset"
   ]
  },
  {
   "cell_type": "code",
   "execution_count": null,
   "metadata": {},
   "outputs": [],
   "source": []
  },
  {
   "cell_type": "markdown",
   "metadata": {},
   "source": [
    "# 3. Visualizing the Time Series data 📊\n",
    "\n",
    "Visualizing the time series data can offer a better perspective instead of merely looking at the numbers."
   ]
  },
  {
   "cell_type": "code",
   "execution_count": 20,
   "metadata": {},
   "outputs": [
    {
     "data": {
      "text/plain": [
       "<matplotlib.axes._subplots.AxesSubplot at 0x7fdb46d6a860>"
      ]
     },
     "execution_count": 20,
     "metadata": {},
     "output_type": "execute_result"
    },
    {
     "data": {
      "image/png": "[encoded data removed]",
      "text/plain": [
       "<Figure size 1152x576 with 1 Axes>"
      ]
     },
     "metadata": {
      "needs_background": "light"
     },
     "output_type": "display_data"
    }
   ],
   "source": [
    "df_vwap['VWAP'].plot(figsize=(16,8),title=' volume weighted average price')"
   ]
  },
  {
   "cell_type": "markdown",
   "metadata": {},
   "source": [
    "It appears that Maruti had a more or less steady increase in its stock price from 2004 to the mid-2018 window. There seems to be some drop in 2019, though. Let's further analyze the data for the year 2018."
   ]
  },
  {
   "cell_type": "code",
   "execution_count": 26,
   "metadata": {},
   "outputs": [
    {
     "data": {
      "image/png": "[encoded data removed]",
      "text/plain": [
       "<Figure size 1080x432 with 1 Axes>"
      ]
     },
     "metadata": {
      "needs_background": "light"
     },
     "output_type": "display_data"
    }
   ],
   "source": [
    "ax = df_vwap.loc['2018', 'VWAP'].plot(figsize=(15,6))\n",
    "ax.set_title('Month-wise Trend in 2018'); \n",
    "ax.set_ylabel('VWAP');\n",
    "ax.xaxis.set_major_locator(mdates.MonthLocator())\n",
    "ax.xaxis.set_major_formatter(mdates.DateFormatter('%b'));"
   ]
  },
  {
   "cell_type": "markdown",
   "metadata": {},
   "source": [
    "We see a dip in the stock prices, particularly around the end of October and November. Let's further zoom in on these dates."
   ]
  },
  {
   "cell_type": "code",
   "execution_count": 27,
   "metadata": {},
   "outputs": [
    {
     "data": {
      "image/png": "[encoded data removed]",
      "text/plain": [
       "<Figure size 1080x432 with 1 Axes>"
      ]
     },
     "metadata": {
      "needs_background": "light"
     },
     "output_type": "display_data"
    }
   ],
   "source": [
    "ax = df_vwap.loc['2018-10':'2018-11','VWAP'].plot(marker='o', linestyle='-',figsize=(15,6))\n",
    "ax.set_title('Oct-Nov 2018 trend'); \n",
    "ax.set_ylabel('VWAP');\n",
    "ax.xaxis.set_major_locator(mdates.WeekdayLocator(byweekday=mdates.MONDAY))\n",
    "ax.xaxis.set_major_formatter(mdates.DateFormatter('%b %d'));"
   ]
  },
  {
   "cell_type": "markdown",
   "metadata": {},
   "source": [
    "So there is a dip in stock prices around the last week of October and the first week of November. One could investigate it further by finding out if there was some special event on that day."
   ]
  },
  {
   "cell_type": "markdown",
   "metadata": {},
   "source": [
    "# 4. Feature Extraction ⚒\n",
    "Let’s extract time and date features from the Date column."
   ]
  },
  {
   "cell_type": "code",
   "execution_count": 28,
   "metadata": {},
   "outputs": [
    {
     "data": {
      "text/html": [
       "<div>\n",
       "<style scoped>\n",
       "    .dataframe tbody tr th:only-of-type {\n",
       "        vertical-align: middle;\n",
       "    }\n",
       "\n",
       "    .dataframe tbody tr th {\n",
       "        vertical-align: top;\n",
       "    }\n",
       "\n",
       "    .dataframe thead th {\n",
       "        text-align: right;\n",
       "    }\n",
       "</style>\n",
       "<table border=\"1\" class=\"dataframe\">\n",
       "  <thead>\n",
       "    <tr style=\"text-align: right;\">\n",
       "      <th></th>\n",
       "      <th>VWAP</th>\n",
       "      <th>year</th>\n",
       "      <th>month</th>\n",
       "      <th>day</th>\n",
       "      <th>day of week</th>\n",
       "    </tr>\n",
       "    <tr>\n",
       "      <th>Date</th>\n",
       "      <th></th>\n",
       "      <th></th>\n",
       "      <th></th>\n",
       "      <th></th>\n",
       "      <th></th>\n",
       "    </tr>\n",
       "  </thead>\n",
       "  <tbody>\n",
       "    <tr>\n",
       "      <th>2003-07-09</th>\n",
       "      <td>165.95</td>\n",
       "      <td>2003</td>\n",
       "      <td>7</td>\n",
       "      <td>9</td>\n",
       "      <td>2</td>\n",
       "    </tr>\n",
       "    <tr>\n",
       "      <th>2003-07-10</th>\n",
       "      <td>166.74</td>\n",
       "      <td>2003</td>\n",
       "      <td>7</td>\n",
       "      <td>10</td>\n",
       "      <td>3</td>\n",
       "    </tr>\n",
       "    <tr>\n",
       "      <th>2003-07-11</th>\n",
       "      <td>172.45</td>\n",
       "      <td>2003</td>\n",
       "      <td>7</td>\n",
       "      <td>11</td>\n",
       "      <td>4</td>\n",
       "    </tr>\n",
       "    <tr>\n",
       "      <th>2003-07-14</th>\n",
       "      <td>177.91</td>\n",
       "      <td>2003</td>\n",
       "      <td>7</td>\n",
       "      <td>14</td>\n",
       "      <td>0</td>\n",
       "    </tr>\n",
       "    <tr>\n",
       "      <th>2003-07-15</th>\n",
       "      <td>176.88</td>\n",
       "      <td>2003</td>\n",
       "      <td>7</td>\n",
       "      <td>15</td>\n",
       "      <td>1</td>\n",
       "    </tr>\n",
       "  </tbody>\n",
       "</table>\n",
       "</div>"
      ],
      "text/plain": [
       "              VWAP  year  month  day  day of week\n",
       "Date                                             \n",
       "2003-07-09  165.95  2003      7    9            2\n",
       "2003-07-10  166.74  2003      7   10            3\n",
       "2003-07-11  172.45  2003      7   11            4\n",
       "2003-07-14  177.91  2003      7   14            0\n",
       "2003-07-15  176.88  2003      7   15            1"
      ]
     },
     "execution_count": 28,
     "metadata": {},
     "output_type": "execute_result"
    }
   ],
   "source": [
    "df_vwap.reset_index(inplace=True)\n",
    "df_vwap['year'] = df_vwap.Date.dt.year\n",
    "df_vwap['month'] = df_vwap.Date.dt.month\n",
    "df_vwap['day'] = df_vwap.Date.dt.day\n",
    "df_vwap['day of week'] = df_vwap.Date.dt.dayofweek\n",
    "\n",
    "\n",
    "\n",
    "#Set Date column as the index column.\n",
    "df_vwap.set_index('Date', inplace=True)\n",
    "df_vwap.head()"
   ]
  },
  {
   "cell_type": "code",
   "execution_count": null,
   "metadata": {},
   "outputs": [],
   "source": []
  },
  {
   "cell_type": "markdown",
   "metadata": {},
   "source": [
    "# 4. Time resampling ⏳\n",
    "\n",
    "Time resampling is a way to aggregate data with respect to a defined time period. We have the stock price data for each day, but this doesn’t make much sense if we want to see the trend for a financial institution. What is useful is the aggregated information for every month or every quarter. This helps the management to get an overview instantly and then make decisions based on this overview.\n",
    "\n",
    "Pandas library has a resample() function which resamples time-series data. The resample method in pandas is similar to its groupby method since it is essentially grouping by a specific time span."
   ]
  },
  {
   "cell_type": "code",
   "execution_count": 29,
   "metadata": {},
   "outputs": [
    {
     "data": {
      "text/html": [
       "<div>\n",
       "<style scoped>\n",
       "    .dataframe tbody tr th:only-of-type {\n",
       "        vertical-align: middle;\n",
       "    }\n",
       "\n",
       "    .dataframe tbody tr th {\n",
       "        vertical-align: top;\n",
       "    }\n",
       "\n",
       "    .dataframe thead th {\n",
       "        text-align: right;\n",
       "    }\n",
       "</style>\n",
       "<table border=\"1\" class=\"dataframe\">\n",
       "  <thead>\n",
       "    <tr style=\"text-align: right;\">\n",
       "      <th></th>\n",
       "      <th>VWAP</th>\n",
       "      <th>year</th>\n",
       "      <th>month</th>\n",
       "      <th>day</th>\n",
       "      <th>day of week</th>\n",
       "    </tr>\n",
       "    <tr>\n",
       "      <th>Date</th>\n",
       "      <th></th>\n",
       "      <th></th>\n",
       "      <th></th>\n",
       "      <th></th>\n",
       "      <th></th>\n",
       "    </tr>\n",
       "  </thead>\n",
       "  <tbody>\n",
       "    <tr>\n",
       "      <th>2003-12-31</th>\n",
       "      <td>266.608468</td>\n",
       "      <td>2003.0</td>\n",
       "      <td>9.604839</td>\n",
       "      <td>16.298387</td>\n",
       "      <td>2.016129</td>\n",
       "    </tr>\n",
       "    <tr>\n",
       "      <th>2004-12-31</th>\n",
       "      <td>430.522835</td>\n",
       "      <td>2004.0</td>\n",
       "      <td>6.559055</td>\n",
       "      <td>15.708661</td>\n",
       "      <td>2.047244</td>\n",
       "    </tr>\n",
       "    <tr>\n",
       "      <th>2005-12-31</th>\n",
       "      <td>494.328566</td>\n",
       "      <td>2005.0</td>\n",
       "      <td>6.541833</td>\n",
       "      <td>15.733068</td>\n",
       "      <td>2.000000</td>\n",
       "    </tr>\n",
       "    <tr>\n",
       "      <th>2006-12-31</th>\n",
       "      <td>845.582160</td>\n",
       "      <td>2006.0</td>\n",
       "      <td>6.552000</td>\n",
       "      <td>15.976000</td>\n",
       "      <td>2.056000</td>\n",
       "    </tr>\n",
       "    <tr>\n",
       "      <th>2007-12-31</th>\n",
       "      <td>887.107871</td>\n",
       "      <td>2007.0</td>\n",
       "      <td>6.554217</td>\n",
       "      <td>15.843373</td>\n",
       "      <td>1.987952</td>\n",
       "    </tr>\n",
       "  </tbody>\n",
       "</table>\n",
       "</div>"
      ],
      "text/plain": [
       "                  VWAP    year     month        day  day of week\n",
       "Date                                                            \n",
       "2003-12-31  266.608468  2003.0  9.604839  16.298387     2.016129\n",
       "2004-12-31  430.522835  2004.0  6.559055  15.708661     2.047244\n",
       "2005-12-31  494.328566  2005.0  6.541833  15.733068     2.000000\n",
       "2006-12-31  845.582160  2006.0  6.552000  15.976000     2.056000\n",
       "2007-12-31  887.107871  2007.0  6.554217  15.843373     1.987952"
      ]
     },
     "execution_count": 29,
     "metadata": {},
     "output_type": "execute_result"
    }
   ],
   "source": [
    "df_vwap.resample(rule = 'A').mean()[:5]"
   ]
  },
  {
   "cell_type": "markdown",
   "metadata": {},
   "source": [
    "Let’s understand what this means:\n",
    "\n",
    "    df_vwap.resample() is used to resample the stock data.\n",
    "    The ‘A’ stands for year-end frequency and denotes the offset values we want to resample the data.\n",
    "    mean() indicates that we want the average stock price during this period.\n",
    "    \n",
    "    So here we have the average stock data displayed on the 31st of each month. Below is a complete list of the offset values. The list can be found in the pandas’ documentation.\n",
    "    https://pandas.pydata.org/pandas-docs/stable/user_guide/timeseries.html#offset-aliases\n",
    "    "
   ]
  },
  {
   "cell_type": "markdown",
   "metadata": {},
   "source": [
    "We can also use time sampling to plot charts for some specific columns."
   ]
  },
  {
   "cell_type": "code",
   "execution_count": 30,
   "metadata": {},
   "outputs": [
    {
     "data": {
      "text/plain": [
       "Text(0.5, 1.0, 'Yearly Mean VWAP for Maruti')"
      ]
     },
     "execution_count": 30,
     "metadata": {},
     "output_type": "execute_result"
    },
    {
     "data": {
      "image/png": "[encoded data removed]",
      "text/plain": [
       "<Figure size 576x432 with 1 Axes>"
      ]
     },
     "metadata": {
      "needs_background": "light"
     },
     "output_type": "display_data"
    }
   ],
   "source": [
    "plt.rcParams['figure.figsize'] = (8, 6)\n",
    "df_vwap['VWAP'].resample('A').mean().plot(kind='bar')\n",
    "plt.title('Yearly Mean VWAP for Maruti')"
   ]
  },
  {
   "cell_type": "markdown",
   "metadata": {},
   "source": [
    "The above bar plot corresponds to Maruti’s average adjusted close price at year-end. Similarly, here is the monthly maximum opening price for Maruti"
   ]
  },
  {
   "cell_type": "code",
   "execution_count": 31,
   "metadata": {},
   "outputs": [
    {
     "data": {
      "text/plain": [
       "Text(0.5, 1.0, 'Yearly start Mean VWAP for Maruti')"
      ]
     },
     "execution_count": 31,
     "metadata": {},
     "output_type": "execute_result"
    },
    {
     "data": {
      "image/png": "[encoded data removed]",
      "text/plain": [
       "<Figure size 720x288 with 1 Axes>"
      ]
     },
     "metadata": {
      "needs_background": "light"
     },
     "output_type": "display_data"
    }
   ],
   "source": [
    "df_vwap['VWAP'].resample('AS').mean().plot(kind='bar',figsize = (10,4))\n",
    "plt.title('Yearly start Mean VWAP for Maruti')"
   ]
  },
  {
   "cell_type": "code",
   "execution_count": null,
   "metadata": {},
   "outputs": [],
   "source": []
  },
  {
   "cell_type": "markdown",
   "metadata": {},
   "source": [
    "# 6. Time Shifting ⏲️\n",
    "\n",
    "Sometimes, it is desirable to shift or move the data forward or backward in time. This shifting is done along a time index by the desired number of time-frequency increments. Here is the original dataset without any shiftings."
   ]
  },
  {
   "cell_type": "code",
   "execution_count": 32,
   "metadata": {},
   "outputs": [
    {
     "data": {
      "text/html": [
       "<div>\n",
       "<style scoped>\n",
       "    .dataframe tbody tr th:only-of-type {\n",
       "        vertical-align: middle;\n",
       "    }\n",
       "\n",
       "    .dataframe tbody tr th {\n",
       "        vertical-align: top;\n",
       "    }\n",
       "\n",
       "    .dataframe thead th {\n",
       "        text-align: right;\n",
       "    }\n",
       "</style>\n",
       "<table border=\"1\" class=\"dataframe\">\n",
       "  <thead>\n",
       "    <tr style=\"text-align: right;\">\n",
       "      <th></th>\n",
       "      <th>VWAP</th>\n",
       "      <th>year</th>\n",
       "      <th>month</th>\n",
       "      <th>day</th>\n",
       "      <th>day of week</th>\n",
       "    </tr>\n",
       "    <tr>\n",
       "      <th>Date</th>\n",
       "      <th></th>\n",
       "      <th></th>\n",
       "      <th></th>\n",
       "      <th></th>\n",
       "      <th></th>\n",
       "    </tr>\n",
       "  </thead>\n",
       "  <tbody>\n",
       "    <tr>\n",
       "      <th>2003-07-09</th>\n",
       "      <td>165.95</td>\n",
       "      <td>2003</td>\n",
       "      <td>7</td>\n",
       "      <td>9</td>\n",
       "      <td>2</td>\n",
       "    </tr>\n",
       "    <tr>\n",
       "      <th>2003-07-10</th>\n",
       "      <td>166.74</td>\n",
       "      <td>2003</td>\n",
       "      <td>7</td>\n",
       "      <td>10</td>\n",
       "      <td>3</td>\n",
       "    </tr>\n",
       "    <tr>\n",
       "      <th>2003-07-11</th>\n",
       "      <td>172.45</td>\n",
       "      <td>2003</td>\n",
       "      <td>7</td>\n",
       "      <td>11</td>\n",
       "      <td>4</td>\n",
       "    </tr>\n",
       "    <tr>\n",
       "      <th>2003-07-14</th>\n",
       "      <td>177.91</td>\n",
       "      <td>2003</td>\n",
       "      <td>7</td>\n",
       "      <td>14</td>\n",
       "      <td>0</td>\n",
       "    </tr>\n",
       "    <tr>\n",
       "      <th>2003-07-15</th>\n",
       "      <td>176.88</td>\n",
       "      <td>2003</td>\n",
       "      <td>7</td>\n",
       "      <td>15</td>\n",
       "      <td>1</td>\n",
       "    </tr>\n",
       "  </tbody>\n",
       "</table>\n",
       "</div>"
      ],
      "text/plain": [
       "              VWAP  year  month  day  day of week\n",
       "Date                                             \n",
       "2003-07-09  165.95  2003      7    9            2\n",
       "2003-07-10  166.74  2003      7   10            3\n",
       "2003-07-11  172.45  2003      7   11            4\n",
       "2003-07-14  177.91  2003      7   14            0\n",
       "2003-07-15  176.88  2003      7   15            1"
      ]
     },
     "execution_count": 32,
     "metadata": {},
     "output_type": "execute_result"
    }
   ],
   "source": [
    "df_vwap.head()"
   ]
  },
  {
   "cell_type": "markdown",
   "metadata": {},
   "source": [
    "# 6.1 Forward Shifting\n",
    "\n",
    "To shift our data forward, we will pass the desired number of periods (or increments) through the shift() function, which in this case, needs to be a positive value. Let’s move our data forward by one period or index, which means that all values which earlier corresponded to row N will now belong to row N+1. Here is the output:"
   ]
  },
  {
   "cell_type": "code",
   "execution_count": 33,
   "metadata": {},
   "outputs": [
    {
     "data": {
      "text/html": [
       "<div>\n",
       "<style scoped>\n",
       "    .dataframe tbody tr th:only-of-type {\n",
       "        vertical-align: middle;\n",
       "    }\n",
       "\n",
       "    .dataframe tbody tr th {\n",
       "        vertical-align: top;\n",
       "    }\n",
       "\n",
       "    .dataframe thead th {\n",
       "        text-align: right;\n",
       "    }\n",
       "</style>\n",
       "<table border=\"1\" class=\"dataframe\">\n",
       "  <thead>\n",
       "    <tr style=\"text-align: right;\">\n",
       "      <th></th>\n",
       "      <th>VWAP</th>\n",
       "      <th>year</th>\n",
       "      <th>month</th>\n",
       "      <th>day</th>\n",
       "      <th>day of week</th>\n",
       "    </tr>\n",
       "    <tr>\n",
       "      <th>Date</th>\n",
       "      <th></th>\n",
       "      <th></th>\n",
       "      <th></th>\n",
       "      <th></th>\n",
       "      <th></th>\n",
       "    </tr>\n",
       "  </thead>\n",
       "  <tbody>\n",
       "    <tr>\n",
       "      <th>2003-07-09</th>\n",
       "      <td>NaN</td>\n",
       "      <td>NaN</td>\n",
       "      <td>NaN</td>\n",
       "      <td>NaN</td>\n",
       "      <td>NaN</td>\n",
       "    </tr>\n",
       "    <tr>\n",
       "      <th>2003-07-10</th>\n",
       "      <td>165.95</td>\n",
       "      <td>2003.0</td>\n",
       "      <td>7.0</td>\n",
       "      <td>9.0</td>\n",
       "      <td>2.0</td>\n",
       "    </tr>\n",
       "    <tr>\n",
       "      <th>2003-07-11</th>\n",
       "      <td>166.74</td>\n",
       "      <td>2003.0</td>\n",
       "      <td>7.0</td>\n",
       "      <td>10.0</td>\n",
       "      <td>3.0</td>\n",
       "    </tr>\n",
       "    <tr>\n",
       "      <th>2003-07-14</th>\n",
       "      <td>172.45</td>\n",
       "      <td>2003.0</td>\n",
       "      <td>7.0</td>\n",
       "      <td>11.0</td>\n",
       "      <td>4.0</td>\n",
       "    </tr>\n",
       "    <tr>\n",
       "      <th>2003-07-15</th>\n",
       "      <td>177.91</td>\n",
       "      <td>2003.0</td>\n",
       "      <td>7.0</td>\n",
       "      <td>14.0</td>\n",
       "      <td>0.0</td>\n",
       "    </tr>\n",
       "  </tbody>\n",
       "</table>\n",
       "</div>"
      ],
      "text/plain": [
       "              VWAP    year  month   day  day of week\n",
       "Date                                                \n",
       "2003-07-09     NaN     NaN    NaN   NaN          NaN\n",
       "2003-07-10  165.95  2003.0    7.0   9.0          2.0\n",
       "2003-07-11  166.74  2003.0    7.0  10.0          3.0\n",
       "2003-07-14  172.45  2003.0    7.0  11.0          4.0\n",
       "2003-07-15  177.91  2003.0    7.0  14.0          0.0"
      ]
     },
     "execution_count": 33,
     "metadata": {},
     "output_type": "execute_result"
    }
   ],
   "source": [
    "df_vwap.shift(1).head()"
   ]
  },
  {
   "cell_type": "markdown",
   "metadata": {},
   "source": [
    "# 6.2 Backward Shifting\n",
    "\n",
    "Similarly, there is a concept of backward shifting. To shift our data backward, the number of periods (or increments) to change by, must be negative."
   ]
  },
  {
   "cell_type": "code",
   "execution_count": 34,
   "metadata": {},
   "outputs": [
    {
     "data": {
      "text/html": [
       "<div>\n",
       "<style scoped>\n",
       "    .dataframe tbody tr th:only-of-type {\n",
       "        vertical-align: middle;\n",
       "    }\n",
       "\n",
       "    .dataframe tbody tr th {\n",
       "        vertical-align: top;\n",
       "    }\n",
       "\n",
       "    .dataframe thead th {\n",
       "        text-align: right;\n",
       "    }\n",
       "</style>\n",
       "<table border=\"1\" class=\"dataframe\">\n",
       "  <thead>\n",
       "    <tr style=\"text-align: right;\">\n",
       "      <th></th>\n",
       "      <th>VWAP</th>\n",
       "      <th>year</th>\n",
       "      <th>month</th>\n",
       "      <th>day</th>\n",
       "      <th>day of week</th>\n",
       "    </tr>\n",
       "    <tr>\n",
       "      <th>Date</th>\n",
       "      <th></th>\n",
       "      <th></th>\n",
       "      <th></th>\n",
       "      <th></th>\n",
       "      <th></th>\n",
       "    </tr>\n",
       "  </thead>\n",
       "  <tbody>\n",
       "    <tr>\n",
       "      <th>2003-07-09</th>\n",
       "      <td>166.74</td>\n",
       "      <td>2003.0</td>\n",
       "      <td>7.0</td>\n",
       "      <td>10.0</td>\n",
       "      <td>3.0</td>\n",
       "    </tr>\n",
       "    <tr>\n",
       "      <th>2003-07-10</th>\n",
       "      <td>172.45</td>\n",
       "      <td>2003.0</td>\n",
       "      <td>7.0</td>\n",
       "      <td>11.0</td>\n",
       "      <td>4.0</td>\n",
       "    </tr>\n",
       "    <tr>\n",
       "      <th>2003-07-11</th>\n",
       "      <td>177.91</td>\n",
       "      <td>2003.0</td>\n",
       "      <td>7.0</td>\n",
       "      <td>14.0</td>\n",
       "      <td>0.0</td>\n",
       "    </tr>\n",
       "    <tr>\n",
       "      <th>2003-07-14</th>\n",
       "      <td>176.88</td>\n",
       "      <td>2003.0</td>\n",
       "      <td>7.0</td>\n",
       "      <td>15.0</td>\n",
       "      <td>1.0</td>\n",
       "    </tr>\n",
       "    <tr>\n",
       "      <th>2003-07-15</th>\n",
       "      <td>177.59</td>\n",
       "      <td>2003.0</td>\n",
       "      <td>7.0</td>\n",
       "      <td>16.0</td>\n",
       "      <td>2.0</td>\n",
       "    </tr>\n",
       "  </tbody>\n",
       "</table>\n",
       "</div>"
      ],
      "text/plain": [
       "              VWAP    year  month   day  day of week\n",
       "Date                                                \n",
       "2003-07-09  166.74  2003.0    7.0  10.0          3.0\n",
       "2003-07-10  172.45  2003.0    7.0  11.0          4.0\n",
       "2003-07-11  177.91  2003.0    7.0  14.0          0.0\n",
       "2003-07-14  176.88  2003.0    7.0  15.0          1.0\n",
       "2003-07-15  177.59  2003.0    7.0  16.0          2.0"
      ]
     },
     "execution_count": 34,
     "metadata": {},
     "output_type": "execute_result"
    }
   ],
   "source": [
    "df_vwap.shift(-1).head()"
   ]
  },
  {
   "cell_type": "markdown",
   "metadata": {},
   "source": [
    "# 6.3 Shifting based off Time String Code\n",
    "\n",
    "We can also use the offset from the offset table (from the Time Resampling section )for time-shifting. For that, we will make use of the pandas' tshift() function. We only need to pass in the periods and freq parameters. The period attribute defines the number of steps to be shifted, and the freq parameters denote the size of those steps.\n",
    "\n",
    "Let’s say we want to shift the data 3 months forward:"
   ]
  },
  {
   "cell_type": "code",
   "execution_count": 35,
   "metadata": {},
   "outputs": [
    {
     "data": {
      "text/html": [
       "<div>\n",
       "<style scoped>\n",
       "    .dataframe tbody tr th:only-of-type {\n",
       "        vertical-align: middle;\n",
       "    }\n",
       "\n",
       "    .dataframe tbody tr th {\n",
       "        vertical-align: top;\n",
       "    }\n",
       "\n",
       "    .dataframe thead th {\n",
       "        text-align: right;\n",
       "    }\n",
       "</style>\n",
       "<table border=\"1\" class=\"dataframe\">\n",
       "  <thead>\n",
       "    <tr style=\"text-align: right;\">\n",
       "      <th></th>\n",
       "      <th>VWAP</th>\n",
       "      <th>year</th>\n",
       "      <th>month</th>\n",
       "      <th>day</th>\n",
       "      <th>day of week</th>\n",
       "    </tr>\n",
       "    <tr>\n",
       "      <th>Date</th>\n",
       "      <th></th>\n",
       "      <th></th>\n",
       "      <th></th>\n",
       "      <th></th>\n",
       "      <th></th>\n",
       "    </tr>\n",
       "  </thead>\n",
       "  <tbody>\n",
       "    <tr>\n",
       "      <th>2003-09-30</th>\n",
       "      <td>165.95</td>\n",
       "      <td>2003</td>\n",
       "      <td>7</td>\n",
       "      <td>9</td>\n",
       "      <td>2</td>\n",
       "    </tr>\n",
       "    <tr>\n",
       "      <th>2003-09-30</th>\n",
       "      <td>166.74</td>\n",
       "      <td>2003</td>\n",
       "      <td>7</td>\n",
       "      <td>10</td>\n",
       "      <td>3</td>\n",
       "    </tr>\n",
       "    <tr>\n",
       "      <th>2003-09-30</th>\n",
       "      <td>172.45</td>\n",
       "      <td>2003</td>\n",
       "      <td>7</td>\n",
       "      <td>11</td>\n",
       "      <td>4</td>\n",
       "    </tr>\n",
       "    <tr>\n",
       "      <th>2003-09-30</th>\n",
       "      <td>177.91</td>\n",
       "      <td>2003</td>\n",
       "      <td>7</td>\n",
       "      <td>14</td>\n",
       "      <td>0</td>\n",
       "    </tr>\n",
       "    <tr>\n",
       "      <th>2003-09-30</th>\n",
       "      <td>176.88</td>\n",
       "      <td>2003</td>\n",
       "      <td>7</td>\n",
       "      <td>15</td>\n",
       "      <td>1</td>\n",
       "    </tr>\n",
       "  </tbody>\n",
       "</table>\n",
       "</div>"
      ],
      "text/plain": [
       "              VWAP  year  month  day  day of week\n",
       "Date                                             \n",
       "2003-09-30  165.95  2003      7    9            2\n",
       "2003-09-30  166.74  2003      7   10            3\n",
       "2003-09-30  172.45  2003      7   11            4\n",
       "2003-09-30  177.91  2003      7   14            0\n",
       "2003-09-30  176.88  2003      7   15            1"
      ]
     },
     "execution_count": 35,
     "metadata": {},
     "output_type": "execute_result"
    }
   ],
   "source": [
    "df_vwap.tshift(periods=3, freq = 'M').head()"
   ]
  },
  {
   "cell_type": "code",
   "execution_count": null,
   "metadata": {},
   "outputs": [],
   "source": []
  },
  {
   "cell_type": "markdown",
   "metadata": {},
   "source": [
    "# 7. Rolling Windows 🧈\n",
    "\n",
    "Time series data can be noisy, and as a result, it becomes difficult to gauge the trend or pattern due to the high fluctuations. For instance, here is the visualization of the VWAP price of the Maruti stock over the years."
   ]
  },
  {
   "cell_type": "code",
   "execution_count": 36,
   "metadata": {},
   "outputs": [
    {
     "data": {
      "text/plain": [
       "<matplotlib.axes._subplots.AxesSubplot at 0x7fdb44b0d278>"
      ]
     },
     "execution_count": 36,
     "metadata": {},
     "output_type": "execute_result"
    },
    {
     "data": {
      "image/png": "[encoded data removed]",
      "text/plain": [
       "<Figure size 720x432 with 1 Axes>"
      ]
     },
     "metadata": {
      "needs_background": "light"
     },
     "output_type": "display_data"
    }
   ],
   "source": [
    "df_vwap['VWAP'].plot(figsize = (10,6))"
   ]
  },
  {
   "cell_type": "markdown",
   "metadata": {},
   "source": [
    "There’s quite a bit of noise here because this is the daily data. It would be nice to average this out by a week, which is where a rolling mean comes in. A rolling mean or Moving average is a transformation method that tends to average out this noise from the data. The idea is simple. Split the data into windows, and the data in each of these windows is then aggregated by some function like mean(), median(), count(), etc.\n",
    "\n",
    "For this example, we shall use a rolling mean for seven days."
   ]
  },
  {
   "cell_type": "code",
   "execution_count": 37,
   "metadata": {},
   "outputs": [
    {
     "data": {
      "text/html": [
       "<div>\n",
       "<style scoped>\n",
       "    .dataframe tbody tr th:only-of-type {\n",
       "        vertical-align: middle;\n",
       "    }\n",
       "\n",
       "    .dataframe tbody tr th {\n",
       "        vertical-align: top;\n",
       "    }\n",
       "\n",
       "    .dataframe thead th {\n",
       "        text-align: right;\n",
       "    }\n",
       "</style>\n",
       "<table border=\"1\" class=\"dataframe\">\n",
       "  <thead>\n",
       "    <tr style=\"text-align: right;\">\n",
       "      <th></th>\n",
       "      <th>VWAP</th>\n",
       "      <th>year</th>\n",
       "      <th>month</th>\n",
       "      <th>day</th>\n",
       "      <th>day of week</th>\n",
       "    </tr>\n",
       "    <tr>\n",
       "      <th>Date</th>\n",
       "      <th></th>\n",
       "      <th></th>\n",
       "      <th></th>\n",
       "      <th></th>\n",
       "      <th></th>\n",
       "    </tr>\n",
       "  </thead>\n",
       "  <tbody>\n",
       "    <tr>\n",
       "      <th>2003-07-09</th>\n",
       "      <td>NaN</td>\n",
       "      <td>NaN</td>\n",
       "      <td>NaN</td>\n",
       "      <td>NaN</td>\n",
       "      <td>NaN</td>\n",
       "    </tr>\n",
       "    <tr>\n",
       "      <th>2003-07-10</th>\n",
       "      <td>NaN</td>\n",
       "      <td>NaN</td>\n",
       "      <td>NaN</td>\n",
       "      <td>NaN</td>\n",
       "      <td>NaN</td>\n",
       "    </tr>\n",
       "    <tr>\n",
       "      <th>2003-07-11</th>\n",
       "      <td>NaN</td>\n",
       "      <td>NaN</td>\n",
       "      <td>NaN</td>\n",
       "      <td>NaN</td>\n",
       "      <td>NaN</td>\n",
       "    </tr>\n",
       "    <tr>\n",
       "      <th>2003-07-14</th>\n",
       "      <td>NaN</td>\n",
       "      <td>NaN</td>\n",
       "      <td>NaN</td>\n",
       "      <td>NaN</td>\n",
       "      <td>NaN</td>\n",
       "    </tr>\n",
       "    <tr>\n",
       "      <th>2003-07-15</th>\n",
       "      <td>NaN</td>\n",
       "      <td>NaN</td>\n",
       "      <td>NaN</td>\n",
       "      <td>NaN</td>\n",
       "      <td>NaN</td>\n",
       "    </tr>\n",
       "    <tr>\n",
       "      <th>2003-07-16</th>\n",
       "      <td>NaN</td>\n",
       "      <td>NaN</td>\n",
       "      <td>NaN</td>\n",
       "      <td>NaN</td>\n",
       "      <td>NaN</td>\n",
       "    </tr>\n",
       "    <tr>\n",
       "      <th>2003-07-17</th>\n",
       "      <td>173.285714</td>\n",
       "      <td>2003.0</td>\n",
       "      <td>7.0</td>\n",
       "      <td>13.142857</td>\n",
       "      <td>2.142857</td>\n",
       "    </tr>\n",
       "    <tr>\n",
       "      <th>2003-07-18</th>\n",
       "      <td>173.530000</td>\n",
       "      <td>2003.0</td>\n",
       "      <td>7.0</td>\n",
       "      <td>14.428571</td>\n",
       "      <td>2.428571</td>\n",
       "    </tr>\n",
       "    <tr>\n",
       "      <th>2003-07-21</th>\n",
       "      <td>173.520000</td>\n",
       "      <td>2003.0</td>\n",
       "      <td>7.0</td>\n",
       "      <td>16.000000</td>\n",
       "      <td>2.000000</td>\n",
       "    </tr>\n",
       "    <tr>\n",
       "      <th>2003-07-22</th>\n",
       "      <td>172.464286</td>\n",
       "      <td>2003.0</td>\n",
       "      <td>7.0</td>\n",
       "      <td>17.571429</td>\n",
       "      <td>1.571429</td>\n",
       "    </tr>\n",
       "  </tbody>\n",
       "</table>\n",
       "</div>"
      ],
      "text/plain": [
       "                  VWAP    year  month        day  day of week\n",
       "Date                                                         \n",
       "2003-07-09         NaN     NaN    NaN        NaN          NaN\n",
       "2003-07-10         NaN     NaN    NaN        NaN          NaN\n",
       "2003-07-11         NaN     NaN    NaN        NaN          NaN\n",
       "2003-07-14         NaN     NaN    NaN        NaN          NaN\n",
       "2003-07-15         NaN     NaN    NaN        NaN          NaN\n",
       "2003-07-16         NaN     NaN    NaN        NaN          NaN\n",
       "2003-07-17  173.285714  2003.0    7.0  13.142857     2.142857\n",
       "2003-07-18  173.530000  2003.0    7.0  14.428571     2.428571\n",
       "2003-07-21  173.520000  2003.0    7.0  16.000000     2.000000\n",
       "2003-07-22  172.464286  2003.0    7.0  17.571429     1.571429"
      ]
     },
     "execution_count": 37,
     "metadata": {},
     "output_type": "execute_result"
    }
   ],
   "source": [
    "df_vwap.rolling(7).mean().head(10)"
   ]
  },
  {
   "cell_type": "markdown",
   "metadata": {},
   "source": [
    "The first six values have become blank because there wasn’t enough data to fill since we chose a window of 7 days.\n",
    "\n",
    "So what are the significant effects of calculating a moving average or using this rolling method? Our data becomes a lot less noisy and becomes more reflective of the trend than the actual data. Let’s plot this out. We shall plot the original data and then the rolling data for 30 days in the same graph."
   ]
  },
  {
   "cell_type": "code",
   "execution_count": 39,
   "metadata": {},
   "outputs": [
    {
     "data": {
      "text/plain": [
       "<matplotlib.axes._subplots.AxesSubplot at 0x7fdb44a98550>"
      ]
     },
     "execution_count": 39,
     "metadata": {},
     "output_type": "execute_result"
    },
    {
     "data": {
      "image/png": "[encoded data removed]",
      "text/plain": [
       "<Figure size 1152x432 with 1 Axes>"
      ]
     },
     "metadata": {
      "needs_background": "light"
     },
     "output_type": "display_data"
    }
   ],
   "source": [
    "df_vwap['VWAP'].plot()\n",
    "df_vwap.rolling(window=30).mean()['VWAP'].plot(figsize=(16, 6))"
   ]
  },
  {
   "cell_type": "markdown",
   "metadata": {},
   "source": [
    "The blue line is the original noisy data, while the orange line with a 30-day rolling window ends up having not as much noise as the blue line. Now, once you run this code, an important aspect to keep in mind is that the first 29 days aren’t going to have that orange line because there wasn’t enough data actually to calculate that rolling mean."
   ]
  },
  {
   "cell_type": "markdown",
   "metadata": {},
   "source": [
    "# Conclusion\n",
    "\n",
    "Pandas is a powerful library with a lot of inbuilt functions for analyzing time-series data. This article saw how Python’s pandas’ library could be used for wrangling and visualizing time series data. We also performed tasks like time sampling, time-shifting, and rolling on the stock data. These are usually the first steps in investigating any time series data. Going forward, we could use this data in several ways. One way could be to perform a basic financial analysis by calculating the daily percentage change in stocks to get an idea about the stock price volatility. Another way would be to use this data to predict Maruti’s stock price for the next few days by employing Machine Learning Techniques. Whatever assignment you choose, the preliminary steps shown in this article would come in handy."
   ]
  },
  {
   "cell_type": "code",
   "execution_count": null,
   "metadata": {},
   "outputs": [],
   "source": []
  },
  {
   "cell_type": "code",
   "execution_count": null,
   "metadata": {},
   "outputs": [],
   "source": []
  },
  {
   "cell_type": "markdown",
   "metadata": {},
   "source": []
  }
 ],
 "metadata": {
  "kernelspec": {
   "display_name": "Python 3",
   "language": "python",
   "name": "python3"
  },
  "language_info": {
   "codemirror_mode": {
    "name": "ipython",
    "version": 3
   },
   "file_extension": ".py",
   "mimetype": "text/x-python",
   "name": "python",
   "nbconvert_exporter": "python",
   "pygments_lexer": "ipython3",
   "version": "3.6.8"
  }
 },
 "nbformat": 4,
 "nbformat_minor": 2
}
